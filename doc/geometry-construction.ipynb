{
 "cells": [
  {
   "cell_type": "code",
   "execution_count": 1,
   "metadata": {},
   "outputs": [],
   "source": [
    "import json"
   ]
  },
  {
   "attachments": {},
   "cell_type": "markdown",
   "metadata": {},
   "source": [
    "# Geometry Construction"
   ]
  },
  {
   "attachments": {},
   "cell_type": "markdown",
   "metadata": {},
   "source": [
    "<h3>Define the parameter</h3>\n",
    "<ul>\n",
    "    <li> <b>r</b> = vessel radius</li>\n",
    "    <li> <b>h</b> = vessel length</li>\n",
    "    <li> <b>hstent</b> = ???</li>\n",
    "    <li> <b>overlap</b> = The overlap ratio between aneurysm\n",
    "geometry to the blood vessel’s depth or\n",
    "radius.</li>\n",
    "    <li>aneu_rad = Aneurysm volume radius.</li>\n",
    "    <li>cyl_res = Represent the blood vessel resolution.</li>\n",
    "    <li>sph_res = Represent aneurysm geometry resolution.</li>\n",
    "    <li>angle = Bending angle in radian</li>\n",
    "    <li>extension_ratio = Adding or extending blood vessel length\n",
    "by ratio to the original length.\n",
    "Extension_ratio value should not be equal\n",
    "to zero</li>\n",
    "    <li>ext_res = The resolution of extended part from the\n",
    "blood vessel</li>\n",
    "</ul>"
   ]
  },
  {
   "cell_type": "code",
   "execution_count": 2,
   "metadata": {},
   "outputs": [],
   "source": [
    "# parameter\n",
    "dict_param={}\n",
    "dict_param[\"r\"]=1.5\n",
    "dict_param[\"h\"]=30\n",
    "dict_param[\"hstent\"]=15\n",
    "dict_param[\"overlap\"]=0.8\n",
    "dict_param[\"aneu_rad\"]=3\n",
    "dict_param[\"cyl_res\"]=50\n",
    "dict_param[\"sph_res\"]=30\n",
    "dict_param[\"angle\"]=0\n",
    "dict_param[\"extension_ratio\"]=0\n",
    "dict_param[\"ext_res\"]=5"
   ]
  },
  {
   "cell_type": "code",
   "execution_count": null,
   "metadata": {},
   "outputs": [],
   "source": []
  }
 ],
 "metadata": {
  "kernelspec": {
   "display_name": "stentEnv",
   "language": "python",
   "name": "python3"
  },
  "language_info": {
   "codemirror_mode": {
    "name": "ipython",
    "version": 3
   },
   "file_extension": ".py",
   "mimetype": "text/x-python",
   "name": "python",
   "nbconvert_exporter": "python",
   "pygments_lexer": "ipython3",
   "version": "3.9.16"
  },
  "orig_nbformat": 4
 },
 "nbformat": 4,
 "nbformat_minor": 2
}
